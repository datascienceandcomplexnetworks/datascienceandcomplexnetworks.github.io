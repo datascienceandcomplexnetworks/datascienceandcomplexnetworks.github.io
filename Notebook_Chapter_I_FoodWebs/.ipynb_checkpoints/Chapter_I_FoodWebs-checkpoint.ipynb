{
 "cells": [
  {
   "cell_type": "markdown",
   "metadata": {},
   "source": [
    "# Chapter I - Food Webs"
   ]
  },
  {
   "cell_type": "markdown",
   "metadata": {},
   "source": [
    "## Read the Adjacency Matrix"
   ]
  },
  {
   "cell_type": "code",
   "execution_count": 1,
   "metadata": {
    "collapsed": false
   },
   "outputs": [],
   "source": [
    "adjacency_matrix=[\n",
    "                  [0,1,0,1],\n",
    "                  [1,0,1,1],\n",
    "                  [0,1,0,0],\n",
    "                  [1,1,0,0]\n",
    "                  ]"
   ]
  },
  {
   "cell_type": "markdown",
   "metadata": {},
   "source": [
    "### Browsing the rows"
   ]
  },
  {
   "cell_type": "code",
   "execution_count": 2,
   "metadata": {
    "collapsed": false
   },
   "outputs": [
    {
     "name": "stdout",
     "output_type": "stream",
     "text": [
      "[0, 1, 0, 1]\n",
      "[1, 0, 1, 1]\n",
      "[0, 1, 0, 0]\n",
      "[1, 1, 0, 0]\n"
     ]
    }
   ],
   "source": [
    "for row in adjacency_matrix:\n",
    "    print row"
   ]
  },
  {
   "cell_type": "markdown",
   "metadata": {},
   "source": [
    "### Browsing the link information"
   ]
  },
  {
   "cell_type": "code",
   "execution_count": 3,
   "metadata": {
    "collapsed": false
   },
   "outputs": [
    {
     "name": "stdout",
     "output_type": "stream",
     "text": [
      "0 1 0 1 \r\n",
      "1 0 1 1 \r\n",
      "0 1 0 0 \r\n",
      "1 1 0 0 \r\n"
     ]
    }
   ],
   "source": [
    "for row in adjacency_matrix:\n",
    "    for a_ij in row:\n",
    "        print a_ij,\n",
    "    print \"\\r\""
   ]
  },
  {
   "cell_type": "markdown",
   "metadata": {},
   "source": [
    "### Directed Networks"
   ]
  },
  {
   "cell_type": "code",
   "execution_count": 4,
   "metadata": {
    "collapsed": true
   },
   "outputs": [],
   "source": [
    "#in the case of directed networks the adjacency matrix is not symetric, like for Food Wes\n",
    "#if a non zero element is present in row 2, column 3, this means there is an arc (directed edge)\n",
    "#from node 2 toward node 3\n",
    "adjacency_matrix_directed=[\n",
    "                  [0,1,0,1],\n",
    "                  [0,0,1,0],\n",
    "                  [0,0,0,1],\n",
    "                  [0,0,0,0]\n",
    "                  ]"
   ]
  },
  {
   "cell_type": "markdown",
   "metadata": {},
   "source": [
    "## Basic Statistics"
   ]
  },
  {
   "cell_type": "code",
   "execution_count": 5,
   "metadata": {
    "collapsed": false
   },
   "outputs": [
    {
     "name": "stdout",
     "output_type": "stream",
     "text": [
      "number of species 4\n",
      "number of predations 4\n",
      "classes Basal, Top, Intermediate:  1 1 2\n",
      "connectance 0.25\n"
     ]
    }
   ],
   "source": [
    "#the number of species is the number of rows or columns of \n",
    "#the adjacency matrix\n",
    "num_species=len(adjacency_matrix_directed[0])\n",
    "\n",
    "#the number of links or predations is the non zero elements \n",
    "#of the adjacency matrix (this holds for directed graphs\n",
    "num_predations=0\n",
    "for i in range(num_species):\n",
    "    for j in range(num_species):\n",
    "        if adjacency_matrix_directed[i][j]!=0:\n",
    "            num_predations=num_predations+1\n",
    "\n",
    "#to check if a specie is a Basal (B), an Intermediate (I) or\n",
    "#a Top (T) one  we have to check the presence of 1s both in \n",
    "#the row and in the column of each specie\n",
    "row_count=[0,0,0,0]\n",
    "column_count=[0,0,0,0]\n",
    "for i in range(num_species):\n",
    "    for j in range(num_species):\n",
    "        row_count[i]=row_count[i]+adjacency_matrix_directed[i][j]\n",
    "        column_count[j]=column_count[j]+ \\\n",
    "        adjacency_matrix_directed[i][j]\n",
    "\n",
    "number_B=0\n",
    "number_I=0\n",
    "number_T=0\n",
    "\n",
    "for n in range(num_species):\n",
    "    if row_count[n]==0:\n",
    "        number_T+=1\n",
    "        continue\n",
    "    if column_count[n]==0:\n",
    "        number_B+=1\n",
    "        continue\n",
    "    else:\n",
    "        number_I+=1\n",
    "   \n",
    "print \"number of species\", num_species\n",
    "print \"number of predations\", num_predations\n",
    "print \"classes Basal, Top, Intermediate: \",number_B,number_T,number_I\n",
    "print \"connectance\", float(num_predations)/float(num_species**2)"
   ]
  },
  {
   "cell_type": "markdown",
   "metadata": {},
   "source": [
    "## The Degree"
   ]
  },
  {
   "cell_type": "code",
   "execution_count": 6,
   "metadata": {
    "collapsed": false
   },
   "outputs": [
    {
     "name": "stdout",
     "output_type": "stream",
     "text": [
      "degree of node 2: 3\n",
      "out_degree node 3: 1\n",
      "in_degree node 4: 2\n"
     ]
    }
   ],
   "source": [
    "#for the undirected network\n",
    "degree_node_2=0\n",
    "for j in adjacency_matrix[1]:\n",
    "    degree_node_2=degree_node_2+j\n",
    "print \"degree of node 2:\",degree_node_2\n",
    "\n",
    "#and for the directed case we already calculated the sum over \n",
    "#the rows and columns for the adjacency_matrix_directed\n",
    "out_degree_node_3=row_count[2]\n",
    "in_degree_node_4=column_count[3]\n",
    "\n",
    "print \"out_degree node 3:\",out_degree_node_3\n",
    "print \"in_degree node 4:\",in_degree_node_4"
   ]
  },
  {
   "cell_type": "markdown",
   "metadata": {},
   "source": [
    "## Degree in Networkx"
   ]
  },
  {
   "cell_type": "code",
   "execution_count": 7,
   "metadata": {
    "collapsed": false
   },
   "outputs": [
    {
     "name": "stdout",
     "output_type": "stream",
     "text": [
      "3\n"
     ]
    }
   ],
   "source": [
    "import networkx as nx\n",
    "\n",
    "#generate an empty graph\n",
    "G=nx.Graph()\n",
    "\n",
    "#define the nodes\n",
    "G.add_node(1)\n",
    "G.add_node(2)\n",
    "G.add_node(3)\n",
    "G.add_node(4)\n",
    "\n",
    "#link the nodes\n",
    "G.add_edge(1,2)\n",
    "G.add_edge(1,4)\n",
    "G.add_edge(2,3)\n",
    "G.add_edge(2,4)\n",
    "\n",
    "#degree of the node 2\n",
    "print G.degree(2)"
   ]
  },
  {
   "cell_type": "markdown",
   "metadata": {},
   "source": [
    "### Degree sequence"
   ]
  },
  {
   "cell_type": "code",
   "execution_count": 8,
   "metadata": {
    "collapsed": false
   },
   "outputs": [
    {
     "name": "stdout",
     "output_type": "stream",
     "text": [
      "[2, 3, 1, 2]\n"
     ]
    }
   ],
   "source": [
    "degree_sequence=[]\n",
    "for row in range(len(adjacency_matrix)):\n",
    "    degree=0\n",
    "    for j in adjacency_matrix[row]:\n",
    "        degree=degree+j\n",
    "    degree_sequence.append(degree)\n",
    "\n",
    "print degree_sequence"
   ]
  },
  {
   "cell_type": "markdown",
   "metadata": {},
   "source": [
    "## Histogram"
   ]
  },
  {
   "cell_type": "code",
   "execution_count": 9,
   "metadata": {
    "collapsed": false
   },
   "outputs": [
    {
     "name": "stdout",
     "output_type": "stream",
     "text": [
      "Populating the interactive namespace from numpy and matplotlib\n"
     ]
    }
   ],
   "source": [
    "# this command is to activate the graphic interface\n",
    "%pylab inline"
   ]
  },
  {
   "cell_type": "code",
   "execution_count": 10,
   "metadata": {
    "collapsed": false
   },
   "outputs": [
    {
     "data": {
      "image/png": "[encoded data removed]",
      "text/plain": [
       "<matplotlib.figure.Figure at 0x7f70a9214f90>"
      ]
     },
     "metadata": {},
     "output_type": "display_data"
    }
   ],
   "source": [
    "import matplotlib.pyplot as plt\n",
    "\n",
    "plt.hist([2,3,1,2])\n",
    "plt.show()"
   ]
  },
  {
   "cell_type": "markdown",
   "metadata": {},
   "source": [
    "## Clustering Coefficient"
   ]
  },
  {
   "cell_type": "code",
   "execution_count": 11,
   "metadata": {
    "collapsed": false
   },
   "outputs": [
    {
     "name": "stdout",
     "output_type": "stream",
     "text": [
      "\r\n",
      "[0, 2, 3]\n",
      "1.0\n",
      "0.333333333333\n"
     ]
    }
   ],
   "source": [
    "row=1 #stands for the node 2\n",
    "node_index_count=0\n",
    "node_index_list=[]\n",
    "for a_ij in adjacency_matrix[row]:\n",
    "    if a_ij==1:\n",
    "        node_index_list.append(node_index_count)\n",
    "    node_index_count=node_index_count+1    \n",
    "print \"\\r\"\n",
    "\n",
    "print node_index_list\n",
    "\n",
    "#then we will check for all the possible neighbours couples if a link actually exist:\n",
    "\n",
    "neighb_conn=0\n",
    "for n1 in node_index_list:\n",
    "    for n2 in node_index_list:\n",
    "        if adjacency_matrix[n1][n2]==1:\n",
    "            neighb_conn=neighb_conn+1\n",
    "   \n",
    "#we have indeed counted them twice...\n",
    "neighb_conn=neighb_conn/2.0\n",
    "\n",
    "print neighb_conn\n",
    "\n",
    "#Finally the clustering coefficient for node '2' is given by the expression:\n",
    "\n",
    "clustering_coefficient=neighb_conn/(degree_node_2*(degree_node_2-1)/2.0)\n",
    "\n",
    "print clustering_coefficient"
   ]
  },
  {
   "cell_type": "markdown",
   "metadata": {},
   "source": [
    "## Distance with Breadth First Search"
   ]
  },
  {
   "cell_type": "markdown",
   "metadata": {},
   "source": [
    "### create the undirected graph"
   ]
  },
  {
   "cell_type": "code",
   "execution_count": 12,
   "metadata": {
    "collapsed": false
   },
   "outputs": [
    {
     "name": "stdout",
     "output_type": "stream",
     "text": [
      "['C', 'B']\n"
     ]
    },
    {
     "data": {
      "image/png": "[encoded data removed]",
      "text/plain": [
       "<matplotlib.figure.Figure at 0x7f70a90c6450>"
      ]
     },
     "metadata": {},
     "output_type": "display_data"
    }
   ],
   "source": [
    "#creating the graph\n",
    "G=nx.Graph()\n",
    "G.add_edges_from([('A','B'),('A','C'),('C','D'),('C','E'),('D','F'),\n",
    "('D','H'),('D','G'),('E','H'),('E','I')])\n",
    "\n",
    "#printing the neighbors of the node 'A'\n",
    "print G.neighbors('A')\n",
    "\n",
    "nx.draw(G)"
   ]
  },
  {
   "cell_type": "code",
   "execution_count": 13,
   "metadata": {
    "collapsed": false
   },
   "outputs": [
    {
     "name": "stdout",
     "output_type": "stream",
     "text": [
      "A 0\n",
      "C 1\n",
      "B 1\n",
      "E 2\n",
      "D 2\n",
      "G 3\n",
      "F 3\n",
      "I 3\n",
      "H 3\n"
     ]
    }
   ],
   "source": [
    "root_node='A'\n",
    "queue=[]\n",
    "queue.append('A')\n",
    "G.node['A'][\"distance\"]=0\n",
    "while len(queue):\n",
    "    working_node=queue.pop(0)\n",
    "    for n in G.neighbors(working_node):\n",
    "        if len(G.node[n])==0:\n",
    "            G.node[n][\"distance\"]=G.node[working_node][\"distance\"]+1\n",
    "            queue.append(n)\n",
    "for n in G.nodes():\n",
    "    print n,G.node[n][\"distance\"]\n",
    "    "
   ]
  },
  {
   "cell_type": "markdown",
   "metadata": {},
   "source": [
    "## Reading the file with Food Web data"
   ]
  },
  {
   "cell_type": "code",
   "execution_count": 14,
   "metadata": {
    "collapsed": true
   },
   "outputs": [],
   "source": [
    "file_name=\"./data/Little_Rock_Lake.txt\"\n",
    "\n",
    "DG = nx.DiGraph()\n",
    "\n",
    "in_file=open(file_name,'r')\n",
    "while True:\n",
    "    next_line=in_file.readline()\n",
    "    if not next_line:\n",
    "        break\n",
    "    next_line_fields=next_line[:-2].split(' ')\n",
    "    node_a=next_line_fields[1] #there is a space in the beginning \n",
    "                               #of each edge\n",
    "    node_b=next_line_fields[2]\n",
    "    print node_a,node_b\n",
    "    DG.add_edge(node_a, node_b)"
   ]
  },
  {
   "cell_type": "markdown",
   "metadata": {},
   "source": [
    "## Trophic Species"
   ]
  },
  {
   "cell_type": "markdown",
   "metadata": {},
   "source": [
    "## Defining the trophic pattern key\n",
    "this is a way to generate a unique key starting from the ordered lists of preys and predators attached to nodes"
   ]
  },
  {
   "cell_type": "code",
   "execution_count": 15,
   "metadata": {
    "collapsed": false
   },
   "outputs": [],
   "source": [
    "def get_node_key(node):\n",
    "    out_list=[]\n",
    "    for out_edge in DG.out_edges(node):\n",
    "        out_list.append(out_edge[1])\n",
    "    in_list=[]\n",
    "    for in_edge in DG.in_edges(node):\n",
    "        in_list.append(in_edge[0])\n",
    "    out_list.sort()\n",
    "    out_list.append('-')\n",
    "    in_list.sort()\n",
    "    out_list.extend(in_list)\n",
    "    return out_list"
   ]
  },
  {
   "cell_type": "markdown",
   "metadata": {},
   "source": [
    "## Grouping the Trophic Species and Regenerating the Trophic network"
   ]
  },
  {
   "cell_type": "code",
   "execution_count": 16,
   "metadata": {
    "collapsed": false
   },
   "outputs": [
    {
     "name": "stdout",
     "output_type": "stream",
     "text": [
      "S: 93\n",
      "L: 1034\n",
      "L/S: 11.1182795699\n"
     ]
    }
   ],
   "source": [
    "def TrophicNetwork(DG):\n",
    "    trophic={}\n",
    "    for n in DG.nodes():\n",
    "        k=tuple(get_node_key(n))\n",
    "        if not trophic.has_key(k):\n",
    "            trophic[k]=[]\n",
    "        trophic[k].append(n)\n",
    "    for specie in trophic.keys():\n",
    "        if len(trophic[specie])>1:\n",
    "            for n in trophic[specie][1:]:\n",
    "                DG.remove_node(n)\n",
    "    return DG\n",
    "\n",
    "#deleting the environment\n",
    "DG.remove_node('0')\n",
    "\n",
    "TrophicDG=TrophicNetwork(DG)\n",
    "print \"S:\",TrophicDG.number_of_nodes()\n",
    "print \"L:\",TrophicDG.number_of_edges()\n",
    "print \"L/S:\",float(TrophicDG.number_of_edges())/ \\\n",
    "TrophicDG.number_of_nodes()"
   ]
  },
  {
   "cell_type": "markdown",
   "metadata": {},
   "source": [
    "## Classes in Food Webs"
   ]
  },
  {
   "cell_type": "code",
   "execution_count": 17,
   "metadata": {
    "collapsed": false
   },
   "outputs": [
    {
     "name": "stdout",
     "output_type": "stream",
     "text": [
      "B: 0.129032258065\n",
      "I: 0.860215053763\n",
      "T: 0.010752688172\n"
     ]
    }
   ],
   "source": [
    "def compute_classes(DG):\n",
    "    basal_species=[]\n",
    "    top_species=[]\n",
    "    intermediate_species=[]\n",
    "    for n in DG.nodes():\n",
    "        if DG.in_degree(n)==0:\n",
    "            basal_species.append(n)\n",
    "        elif DG.out_degree(n)==0:\n",
    "            top_species.append(n)\n",
    "        else:\n",
    "            intermediate_species.append(n)\n",
    "    return (basal_species,intermediate_species,top_species)\n",
    "\n",
    "(B,I,T)=compute_classes(TrophicDG)\n",
    "print \"B:\",float(len(B))/(len(B)+len(T)+len(I))\n",
    "print \"I:\",float(len(I))/(len(B)+len(T)+len(I))\n",
    "print \"T:\",float(len(T))/(len(B)+len(T)+len(I))"
   ]
  },
  {
   "cell_type": "markdown",
   "metadata": {},
   "source": [
    "## Proportion of links among classes and ratio prey/predators"
   ]
  },
  {
   "cell_type": "code",
   "execution_count": 18,
   "metadata": {
    "collapsed": false
   },
   "outputs": [
    {
     "name": "stdout",
     "output_type": "stream",
     "text": [
      "links in BT: 0.000967117988395\n",
      "links in BI: 0.0909090909091\n",
      "links in II: 0.908123791103\n",
      "links in IT: 0.0\n",
      "P/R: 1.13580246914\n"
     ]
    }
   ],
   "source": [
    "def InterclassLinkProportion(DG,C1,C2):\n",
    "    count=0\n",
    "    for n1 in C1:\n",
    "        for n2 in C2:\n",
    "            if DG.has_edge(n1,n2):\n",
    "                count+=1\n",
    "    return float(count)/DG.number_of_edges()\n",
    "    \n",
    "print \"links in BT:\",InterclassLinkProportion(TrophicDG,B,T)\n",
    "print \"links in BI:\",InterclassLinkProportion(TrophicDG,B,I)\n",
    "print \"links in II:\",InterclassLinkProportion(TrophicDG,I,I)\n",
    "print \"links in IT:\",InterclassLinkProportion(TrophicDG,I,T)\n",
    "\n",
    "#Ratio prey/predators\n",
    "print \"P/R:\",float((len(B)+len(I)))/(len(I)+len(T))"
   ]
  }
 ],
 "metadata": {
  "kernelspec": {
   "display_name": "Python 2",
   "language": "python",
   "name": "python2"
  },
  "language_info": {
   "codemirror_mode": {
    "name": "ipython",
    "version": 2
   },
   "file_extension": ".py",
   "mimetype": "text/x-python",
   "name": "python",
   "nbconvert_exporter": "python",
   "pygments_lexer": "ipython2",
   "version": "2.7.6"
  }
 },
 "nbformat": 4,
 "nbformat_minor": 0
}
